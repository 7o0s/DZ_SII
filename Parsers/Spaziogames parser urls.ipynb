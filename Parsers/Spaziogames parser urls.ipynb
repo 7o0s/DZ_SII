{
 "cells": [
  {
   "cell_type": "code",
   "execution_count": 1,
   "id": "01465adf",
   "metadata": {},
   "outputs": [],
   "source": [
    "import requests\n",
    "from bs4 import BeautifulSoup as bs\n",
    "import json\n",
    "\n",
    "headers = {\n",
    "    'Accept-Encoding': 'gzip, deflate, sdch',\n",
    "    'Accept-Language': 'en-US,en;q=0.8',\n",
    "    'Upgrade-Insecure-Requests': '1',\n",
    "    'User-Agent': 'Mozilla/5.0 (X11; Linux x86_64) AppleWebKit/537.36 (KHTML, like Gecko) Chrome/56.0.2924.87 Safari/537.36',\n",
    "    'Accept': 'text/html,application/xhtml+xml,application/xml;q=0.9,image/webp,*/*;q=0.8',\n",
    "    'Cache-Control': 'max-age=0',\n",
    "    'Connection': 'keep-alive',\n",
    "}"
   ]
  },
  {
   "cell_type": "code",
   "execution_count": 5,
   "id": "99afffeb",
   "metadata": {},
   "outputs": [],
   "source": [
    "#547 last page\n",
    "url = 'https://www.spaziogames.it/categorie/recensione?page='\n",
    "count = 0\n",
    "for i in range(547):\n",
    "    r = requests.get(url+str(i), headers=headers, timeout=600)\n",
    "    soup = bs(r.text, \"html.parser\")\n",
    "    pages = soup.find_all(class_=\"pl-2 grow\")\n",
    "    for page in pages:\n",
    "        href = page.a.get('href')\n",
    "        with open(\"/Users/karina/Desktop/НИУ ВШЭ/3 курс/ПроектГеймДев/Spaziogames/game_URL.txt\", \"a\") as outfile:\n",
    "            outfile.write(href + \"\\n\")\n",
    "        count += 1\n",
    "        #print(\"{}\".format(href))"
   ]
  },
  {
   "cell_type": "code",
   "execution_count": 6,
   "id": "dc625f07",
   "metadata": {},
   "outputs": [
    {
     "data": {
      "text/plain": [
       "10940"
      ]
     },
     "execution_count": 6,
     "metadata": {},
     "output_type": "execute_result"
    }
   ],
   "source": [
    "count"
   ]
  },
  {
   "cell_type": "code",
   "execution_count": 7,
   "id": "796c92ea",
   "metadata": {},
   "outputs": [
    {
     "name": "stdout",
     "output_type": "stream",
     "text": [
      "He how are you?\n"
     ]
    }
   ],
   "source": [
    "from deep_translator import GoogleTranslator\n",
    "\n",
    "text = \"Ciao, come stai?\"\n",
    "\n",
    "trans = GoogleTranslator(source='it', target='en').translate(text)\n",
    "\n",
    "print(trans)"
   ]
  },
  {
   "cell_type": "code",
   "execution_count": 136,
   "id": "64f0bfb0",
   "metadata": {},
   "outputs": [
    {
     "name": "stdout",
     "output_type": "stream",
     "text": [
      "\n",
      "Hey! Pikmin\n",
      "\n",
      "None\n",
      "None\n"
     ]
    }
   ],
   "source": [
    "URL = \"https://www.spaziogames.it/recensioni/Hey-Pikmin-242588\"\n",
    "r = requests.get(URL, headers=headers, timeout=600)\n",
    "soup = bs(r.text, \"html.parser\")\n",
    "#grade = soup.find(class_=\"flex items-center justify-center rounded-full mx-8\").span.text\n",
    "page = soup.find(class_=\"max-w-[1260px] mx-auto bg-white dark:bg-zinc-900 z-10 relative\")\n",
    "game_name = page.h1.text.partition('|')[0] #find(class_=\"text-3xl lg:text-6xl font-black tracking-tight font-spazio mb-2\")#.text.partition(',')[0]\n",
    "print(game_name)\n",
    "date = page.time.text.partition('il')[2].partition('alle')[0]\n",
    "ending = page.find_all(class_='max-w-4xl mx-auto')\n",
    "ending[1].extract()\n",
    "check = soup.find(class_='relative sm:flex p-4 items-center')\n",
    "if check is None: \n",
    "    print(check)\n",
    "print(check)\n",
    "\n",
    "header = soup.find('div', id=\"adv__parsed__content\")\n",
    "text1 = header.text\n",
    "cartoons = soup.find_all('figcaption', class_=\"!mt-0 font-sans !text-sm py-2 px-4 bg-zinc-200 dark:bg-zinc-800 text-zinc-700 dark:text-zinc-200\") \n",
    "for cartoon in cartoons:\n",
    "    text1 = text1.replace('\\n', ' ').replace(cartoon.text.replace('\\n', ''), '')\n",
    "game_review_it_1 = text1[:4900]\n",
    "game_review_it_2 = text1[4900:9899]\n",
    "game_review_it_3 = text1[9899:13980]\n",
    "game_review = GoogleTranslator(source='it', target='en').translate(game_review_it_1) + GoogleTranslator(source='it', target='en').translate(game_review_it_2)+ GoogleTranslator(source='it', target='en').translate(game_review_it_3)\n",
    "#print(game_review)\n"
   ]
  },
  {
   "cell_type": "code",
   "execution_count": 137,
   "id": "78c5397a",
   "metadata": {},
   "outputs": [],
   "source": [
    "import requests\n",
    "from bs4 import BeautifulSoup as bs\n",
    "import json\n",
    "from deep_translator import GoogleTranslator\n",
    "\n",
    "headers = {\n",
    "    'Accept-Encoding': 'gzip, deflate, sdch',\n",
    "    'Accept-Language': 'en-US,en;q=0.8',\n",
    "    'Upgrade-Insecure-Requests': '1',\n",
    "    'User-Agent': 'Mozilla/5.0 (X11; Linux x86_64) AppleWebKit/537.36 (KHTML, like Gecko) Chrome/56.0.2924.87 Safari/537.36',\n",
    "    'Accept': 'text/html,application/xhtml+xml,application/xml;q=0.9,image/webp,*/*;q=0.8',\n",
    "    'Cache-Control': 'max-age=0',\n",
    "    'Connection': 'keep-alive',\n",
    "}\n",
    "\n",
    "\n",
    "def parse_review_page(URL:str):\n",
    "    \"\"\"\n",
    "    Gets information about review about game on a page (name, name of article, text of review) and\n",
    "    returns it as dict.\n",
    "    :param URL: str - page url\n",
    "    :return: None or dict full of info (keys: name, name_review, ref, text)\n",
    "    \"\"\"\n",
    "    r = requests.get(URL, headers=headers, timeout=600)\n",
    "    soup = bs(r.text, \"html.parser\")\n",
    "    page = soup.find(class_=\"max-w-[1260px] mx-auto bg-white dark:bg-zinc-900 z-10 relative\")\n",
    "    game_name = page.h1.text.partition('|')[0] #find(class_=\"text-3xl lg:text-6xl font-black tracking-tight font-spazio mb-2\")#.text.partition(',')[0]\n",
    "    date = page.time.text.partition('il')[2].partition('alle')[0]\n",
    "    grade = soup.find(class_=\"flex items-center justify-center rounded-full mx-8\")\n",
    "    if grade is not None:\n",
    "        grade = grade.span.text\n",
    "    else:\n",
    "        grade = None\n",
    "    ending = page.find_all(class_='max-w-4xl mx-auto')\n",
    "    ending[1].extract()\n",
    "    header = soup.find('div', id=\"adv__parsed__content\")\n",
    "    text1 = header.text\n",
    "    cartoons = soup.find_all('figcaption', class_=\"!mt-0 font-sans !text-sm py-2 px-4 bg-zinc-200 dark:bg-zinc-800 text-zinc-700 dark:text-zinc-200\") \n",
    "    for cartoon in cartoons:\n",
    "        text1 = text1.replace('\\n', ' ').replace(cartoon.text.replace('\\n', ''), '')\n",
    "#     errors = soup.find(class_=\"article__box article__box--requirements mx-3 mt-5 mb-3 pb-3 position-relative\")\n",
    "#     if errors is not None:\n",
    "#         errors.extract()\n",
    "    game_review_it_1 = text1[:4900]\n",
    "    game_review_it_2 = text1[4900:9899]\n",
    "    game_review_it_3 = text1[9899:13980]\n",
    "    if game_review_it_2 is not None:\n",
    "        if game_review_it_3 is None:\n",
    "            game_review = str(GoogleTranslator(source='it', target='en').translate(game_review_it_1)) + str(GoogleTranslator(source='it', target='en').translate(game_review_it_2))\n",
    "        else:\n",
    "            game_review = str(GoogleTranslator(source='it', target='en').translate(game_review_it_1)) + str(GoogleTranslator(source='it', target='en').translate(game_review_it_2)) + str(GoogleTranslator(source='it', target='en').translate(game_review_it_3))\n",
    "    else:\n",
    "        game_review = str(GoogleTranslator(source='it', target='en').translate(game_review_it_1))\n",
    "    d = {'name': game_name, 'ref': URL, 'text': game_review, 'date': date, 'grade': grade}\n",
    "    return d\n",
    "\n",
    "filename = '/Users/karina/Desktop/НИУ ВШЭ/3 курс/ПроектГеймДев/Spaziogames/game_URL.txt'\n",
    "counter = 1736\n",
    "i = 2000\n",
    "with open (filename, 'r') as f:\n",
    "    all_review_links = f.readlines()\n",
    "for link in all_review_links[i:]:\n",
    "    d = parse_review_page(\"%s\" %link.rstrip('\\n'))\n",
    "    if d != 0:\n",
    "        with open(\"/Users/karina/Desktop/НИУ ВШЭ/3 курс/ПроектГеймДев/Spaziogames/Reviews/game_review_all_\" + str(counter) + \".json\", \"w\") as outfile:\n",
    "            outfile.write(json.dumps(d))\n",
    "        counter = counter + 1\n",
    "    i += 1"
   ]
  },
  {
   "cell_type": "code",
   "execution_count": 135,
   "id": "6a8f1092",
   "metadata": {},
   "outputs": [
    {
     "data": {
      "text/plain": [
       "'https://www.spaziogames.it/recensioni/Hey-Pikmin-242588\\n'"
      ]
     },
     "execution_count": 135,
     "metadata": {},
     "output_type": "execute_result"
    }
   ],
   "source": [
    "all_review_links[2000]"
   ]
  },
  {
   "cell_type": "code",
   "execution_count": 138,
   "id": "66bbe9e3",
   "metadata": {},
   "outputs": [
    {
     "data": {
      "text/plain": [
       "10676"
      ]
     },
     "execution_count": 138,
     "metadata": {},
     "output_type": "execute_result"
    }
   ],
   "source": [
    "counter"
   ]
  },
  {
   "cell_type": "code",
   "execution_count": 139,
   "id": "dbbdbf02",
   "metadata": {},
   "outputs": [
    {
     "data": {
      "text/plain": [
       "10940"
      ]
     },
     "execution_count": 139,
     "metadata": {},
     "output_type": "execute_result"
    }
   ],
   "source": [
    "i"
   ]
  },
  {
   "cell_type": "code",
   "execution_count": null,
   "id": "0b17b794",
   "metadata": {},
   "outputs": [],
   "source": []
  }
 ],
 "metadata": {
  "kernelspec": {
   "display_name": "Python 3 (ipykernel)",
   "language": "python",
   "name": "python3"
  },
  "language_info": {
   "codemirror_mode": {
    "name": "ipython",
    "version": 3
   },
   "file_extension": ".py",
   "mimetype": "text/x-python",
   "name": "python",
   "nbconvert_exporter": "python",
   "pygments_lexer": "ipython3",
   "version": "3.10.8"
  }
 },
 "nbformat": 4,
 "nbformat_minor": 5
}
