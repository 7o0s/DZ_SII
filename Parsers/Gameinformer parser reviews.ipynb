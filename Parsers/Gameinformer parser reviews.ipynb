{
 "cells": [
  {
   "cell_type": "code",
   "execution_count": 80,
   "metadata": {},
   "outputs": [
    {
     "name": "stdout",
     "output_type": "stream",
     "text": [
      "8547\n"
     ]
    }
   ],
   "source": [
    "print(counter)"
   ]
  },
  {
   "cell_type": "code",
   "execution_count": 57,
   "metadata": {},
   "outputs": [
    {
     "data": {
      "text/plain": [
       "'https://www.ign.com/articles/2000/08/10/surf-riders'"
      ]
     },
     "execution_count": 57,
     "metadata": {},
     "output_type": "execute_result"
    }
   ],
   "source": [
    "all_review_links[1899].rstrip('\\n')"
   ]
  },
  {
   "cell_type": "code",
   "execution_count": 98,
   "metadata": {},
   "outputs": [
    {
     "data": {
      "text/plain": [
       "10153"
      ]
     },
     "execution_count": 98,
     "metadata": {},
     "output_type": "execute_result"
    }
   ],
   "source": [
    "len(all_review_links)"
   ]
  },
  {
   "cell_type": "code",
   "execution_count": 10,
   "metadata": {},
   "outputs": [],
   "source": [
    "import requests\n",
    "from bs4 import BeautifulSoup as bs\n",
    "import json\n",
    "\n",
    "headers = {\n",
    "    'Accept-Encoding': 'gzip, deflate, sdch',\n",
    "    'Accept-Language': 'en-US,en;q=0.8',\n",
    "    'Upgrade-Insecure-Requests': '1',\n",
    "    'User-Agent': 'Mozilla/5.0 (X11; Linux x86_64) AppleWebKit/537.36 (KHTML, like Gecko) Chrome/56.0.2924.87 Safari/537.36',\n",
    "    'Accept': 'text/html,application/xhtml+xml,application/xml;q=0.9,image/webp,*/*;q=0.8',\n",
    "    'Cache-Control': 'max-age=0',\n",
    "    'Connection': 'keep-alive',\n",
    "}"
   ]
  },
  {
   "cell_type": "code",
   "execution_count": 17,
   "metadata": {},
   "outputs": [],
   "source": [
    "def parse_review_page(URL:str):\n",
    "    \"\"\"\n",
    "    Gets information about review about game on a page (name, name of article, text of review) and\n",
    "    returns it as dict.\n",
    "    :param URL: str - page url\n",
    "    :return: None or dict full of info (keys: name, name_review, ref, text)\n",
    "    \"\"\"\n",
    "    r = requests.get(URL, headers=headers, timeout=600)\n",
    "    soup = bs(r.text, \"html.parser\")\n",
    "    name = soup.find(class_=\"page-title\").text\n",
    "    game_name = name.partition('Review')[0]\n",
    "    game_review = soup.find(class_=\"clearfix text-formatted field field--name-body field--type-text-with-summary field--label-hidden gi5-body gi5-text-with-summary field__item\").text\n",
    "    date = soup.find(class_=\"author-details\").text.partition('on')[2].partition('at')[0]\n",
    "    if soup.find(class_=\"gi5-reviewpage-score\") is not None:\n",
    "        grade = soup.find(class_=\"gi5-reviewpage-score\").text\n",
    "    else:\n",
    "        grade = None\n",
    "    d = {'name': game_name, 'ref': URL, 'text': game_review, 'date': date, 'grade': grade}\n",
    "    return d\n",
    "\n",
    "filename = '/Users/karina/Desktop/НИУ ВШЭ/3 курс/ПроектГеймДев/Gameinformer/Gameinformer_url.txt'\n",
    "counter = 2\n",
    "with open (filename, 'r') as f:\n",
    "    all_review_links = f.readlines()\n",
    "for link in all_review_links[counter:]:\n",
    "    d = parse_review_page(\"%s\" %link.rstrip('\\n'))\n",
    "    with open(\"/Users/karina/Desktop/НИУ ВШЭ/3 курс/ПроектГеймДев/Gameinformer/Reviews/game_review_all_\" + str(counter) + \".json\", \"w\") as outfile:\n",
    "        outfile.write(json.dumps(d))\n",
    "    counter = counter + 1"
   ]
  },
  {
   "cell_type": "code",
   "execution_count": 68,
   "metadata": {},
   "outputs": [
    {
     "name": "stdout",
     "output_type": "stream",
     "text": [
      "https://gaming-age.com/2022/07/blackberry-honey-review-for-playstation-xbox-switch-pc/\n",
      "\n"
     ]
    }
   ],
   "source": [
    "print(all_review_links[203])"
   ]
  },
  {
   "cell_type": "code",
   "execution_count": 15,
   "metadata": {},
   "outputs": [
    {
     "data": {
      "text/plain": [
       "2"
      ]
     },
     "execution_count": 15,
     "metadata": {},
     "output_type": "execute_result"
    }
   ],
   "source": [
    "counter"
   ]
  },
  {
   "cell_type": "code",
   "execution_count": 16,
   "metadata": {},
   "outputs": [
    {
     "data": {
      "text/plain": [
       "'https://www.gameinformer.com/impressions/2023/06/23/sonic-origins-plus-impressions-two-steps-forward-one-step-back\\n'"
      ]
     },
     "execution_count": 16,
     "metadata": {},
     "output_type": "execute_result"
    }
   ],
   "source": [
    "link"
   ]
  },
  {
   "cell_type": "code",
   "execution_count": null,
   "metadata": {},
   "outputs": [],
   "source": []
  }
 ],
 "metadata": {
  "kernelspec": {
   "display_name": "Python 3 (ipykernel)",
   "language": "python",
   "name": "python3"
  },
  "language_info": {
   "codemirror_mode": {
    "name": "ipython",
    "version": 3
   },
   "file_extension": ".py",
   "mimetype": "text/x-python",
   "name": "python",
   "nbconvert_exporter": "python",
   "pygments_lexer": "ipython3",
   "version": "3.10.8"
  }
 },
 "nbformat": 4,
 "nbformat_minor": 4
}
