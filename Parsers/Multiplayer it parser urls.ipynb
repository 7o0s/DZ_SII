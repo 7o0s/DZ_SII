{
 "cells": [
  {
   "cell_type": "code",
   "execution_count": 1,
   "id": "01465adf",
   "metadata": {},
   "outputs": [],
   "source": [
    "import requests\n",
    "from bs4 import BeautifulSoup as bs\n",
    "import json\n",
    "\n",
    "headers = {\n",
    "    'Accept-Encoding': 'gzip, deflate, sdch',\n",
    "    'Accept-Language': 'en-US,en;q=0.8',\n",
    "    'Upgrade-Insecure-Requests': '1',\n",
    "    'User-Agent': 'Mozilla/5.0 (X11; Linux x86_64) AppleWebKit/537.36 (KHTML, like Gecko) Chrome/56.0.2924.87 Safari/537.36',\n",
    "    'Accept': 'text/html,application/xhtml+xml,application/xml;q=0.9,image/webp,*/*;q=0.8',\n",
    "    'Cache-Control': 'max-age=0',\n",
    "    'Connection': 'keep-alive',\n",
    "}"
   ]
  },
  {
   "cell_type": "code",
   "execution_count": 38,
   "id": "99afffeb",
   "metadata": {},
   "outputs": [],
   "source": [
    "#699 last page\n",
    "url = 'https://multiplayer.it/articoli/recensioni/?page='\n",
    "count = 0\n",
    "for i in range(700):\n",
    "    r = requests.get(url+str(i), headers=headers, timeout=600)\n",
    "    soup = bs(r.text, \"html.parser\")\n",
    "    page = soup.find(class_=\"p-2 p-md-3\") #p-2 p-md-3\n",
    "    links = page.find_all(class_=\"media-body\")\n",
    "    for link in links:\n",
    "        if link.ul is not None:\n",
    "            href = link.a.get('href')\n",
    "            with open(\"/Users/karina/Desktop/НИУ ВШЭ/3 курс/ПроектГеймДев/Multiplayer it/game_URL.txt\", \"a\") as outfile:\n",
    "                outfile.write(href + \"\\n\")\n",
    "            count += 1\n",
    "            #print(\"{}\".format(href))"
   ]
  },
  {
   "cell_type": "code",
   "execution_count": 39,
   "id": "dc625f07",
   "metadata": {},
   "outputs": [
    {
     "data": {
      "text/plain": [
       "12410"
      ]
     },
     "execution_count": 39,
     "metadata": {},
     "output_type": "execute_result"
    }
   ],
   "source": [
    "count"
   ]
  },
  {
   "cell_type": "code",
   "execution_count": 4,
   "id": "796c92ea",
   "metadata": {},
   "outputs": [
    {
     "name": "stdout",
     "output_type": "stream",
     "text": [
      "He how are you?\n"
     ]
    }
   ],
   "source": [
    "from deep_translator import GoogleTranslator\n",
    "\n",
    "text = \"Ciao, come stai?\"\n",
    "\n",
    "trans = GoogleTranslator(source='it', target='en').translate(text)\n",
    "\n",
    "print(trans)"
   ]
  },
  {
   "cell_type": "code",
   "execution_count": 59,
   "id": "64f0bfb0",
   "metadata": {},
   "outputs": [
    {
     "name": "stdout",
     "output_type": "stream",
     "text": [
      "One of the strengths of the Apple Arcade program is its special focus on Japanese productions on iOS, which have led to several pearls launched exclusively in time or absolute on these platforms, or to sincerely unexpected conversions. In the Jet Dragon review we are faced with an original title from Grezzo, a team that has made itself known for the work done on games of enormous importance such as The Legend of Zelda: Ocarina of Time 3D, Luigi's Mansion and the splendid remake of The Legend of Zelda: Link's Awakening, but in this case we are dealing with something decidedly new yet also linked to certain traditions of the Japanese gaming market. It is a hybrid game between racing and management that may seem abstruse at first glance, but it is part of a well-encoded vein in Japan, usually related to horse racing. It may seem strange, but these represent an incredibly important source of inspiration from those parts: from the fictionalized stories of the Derby Stallion series to assorted follies such as Japan World Cup or Umamusume Pretty Derby, horse racing (and not only) are a staple in Japanese videogame production. We have already had a testimony on Apple Arcade with the excellent Pocket Card Jockey: Ride On! while in this case everything is transferred to a different context, with dragons instead of horses, but leaving some recurring elements substantially unchanged.\n",
      "\n",
      "\n",
      "\n",
      "\n",
      "\n",
      "\n",
      "\n",
      "\n",
      "\n",
      "\n",
      "\n",
      "\n",
      "\n",
      "\n",
      "\n",
      "\n",
      "\n",
      "\n",
      "\n",
      "  \n",
      "\n",
      "The parts relating to racing are characterized by a rather limited interaction, but it must be considered that Jet Dragon is primarily a management title, which focuses above all on the construction and evolution of one's team. It is also a game with an excellent presentation, among simple but rather evocative 3D graphics, which closely resembles some classics such as Panzer Dragoon, and 2D grafts used to represent the characters during the dialogues and some really well-made cutscenes, able to provide a nice characterization to the game world . The rather simple story tells of Eleanor, daughter of a legendary jockey who finds herself taking over her father's stable after his father's disappearance and trying to emerge in the competitive - and with decidedly aggressive traits - world of dragon racing.\n",
      "\n",
      "\n",
      "Dragon racing\n",
      "\n",
      "\n",
      "\n",
      "\n",
      "Jet Dragon: Racing is shown from behind the dragon, in 3D\n",
      "\n",
      "The gameplay develops in the two phases of the race and management of the stable, with the latter soon emerging as predominant in the structure. The part relating to the race can be almost disorienting in its simplicity: as often happens in the aforementioned games dedicated to horse racing, it is basically a question of pressing a button which allows you to spur the dragon, thus making a momentary acceleration but having to carefully dose the shots based on the amount of stamina available, in order not to tire the creature too much. As you progress in the game, with the evolution of the dragons you unlock some special abilities such as turbo or various types of attacks that give further advantages, but always with the need to dose the dragon's energy during the race. There are no directions to give and the race is essentially automated, leaving us only to use spur and skill in the best possible way while watching the race almost as a spectator.\n",
      "\n",
      "\n",
      "\n",
      "\n",
      "More complex and multifaceted is the management of the stable, which evolves substantially as you progress in the game and opening up further possibilities for control and modification. In the flying base we find ourselves spending most of the time, training dragons and jockeys and also witnessing the dialogues that carry the story forward. The races largely depend on the statistics gained, therefore the part of training and investment of resources is fundamental for the outcome of the race, making thisstage is the real heart of the game.\n",
      "\n",
      "\n",
      "\n",
      "\n",
      "\n",
      "\n",
      "Jet Dragon: stable management reserves ample space for dragons, of course\n",
      "\n",
      "As in a sort of managerial, our task is to organize the base by building sections dedicated to dragons, jockeys and other support elements, to evolve these divisions by improving their effectiveness, to enlist new elements to use in the administration of the base or to deploy in the race and focus on training. Also on this front it is a question of balancing the workload with the resistance of the subjects, investing the money wisely so as not to run dry and try to develop dragons and jockeys based on the various respective skills, so as to be able to exploit them appropriately according to the characteristics of the various tracks. It is not a particularly complex and refined mechanism, since it is largely resolved with the linear increase of the statistics of each character and dragon through repeated training, but adding a layer of tactics is the selection of the dragon and jockey to use before the race. This is an element of fundamental importance for the hopes of victory, because there are different combinations capable of enhancing the different types of dragon and \"driver\", each indicated for certain types of racing.\n"
     ]
    }
   ],
   "source": [
    "URL = \"https://multiplayer.it/recensioni/jet-dragon-recensione.html\"\n",
    "r = requests.get(URL, headers=headers, timeout=600)\n",
    "soup = bs(r.text, \"html.parser\")\n",
    "game_name = soup.find(class_=\"font-weight-bold ls-n1 lh-1 mb-2\").text.partition(',')[0]\n",
    "grade = soup.find(class_=\"article__verdict__boxes__vote text-center text-uppercase font-weight-bold m-0 h6\").text\n",
    "verdict = soup.find(class_='article__verdict clearfix _noads')\n",
    "verdict.extract() \n",
    "pros_cons = soup.find(class_=\"article__pros-cons py-4 mb-2 mb-xl-0\")\n",
    "pros_cons.extract()\n",
    "errors = soup.find(class_=\"article__body my-4\")\n",
    "errors.extract()\n",
    "game_review_it = soup.find(class_=\"article__content\").text\n",
    "game_review_it_1 = game_review_it[:4000]\n",
    "game_review_it_2 = game_review_it[4000:]\n",
    "game_review = GoogleTranslator(source='it', target='en').translate(game_review_it_1) + GoogleTranslator(source='it', target='en').translate(game_review_it_2)\n",
    "print(game_review)\n",
    "date = soup.find(class_=\"article__header__date\").span.get(\"data-date\").partition('T')[0]\n"
   ]
  },
  {
   "cell_type": "code",
   "execution_count": null,
   "id": "78c5397a",
   "metadata": {},
   "outputs": [],
   "source": [
    "import requests\n",
    "from bs4 import BeautifulSoup as bs\n",
    "import json\n",
    "from deep_translator import GoogleTranslator\n",
    "\n",
    "headers = {\n",
    "    'Accept-Encoding': 'gzip, deflate, sdch',\n",
    "    'Accept-Language': 'en-US,en;q=0.8',\n",
    "    'Upgrade-Insecure-Requests': '1',\n",
    "    'User-Agent': 'Mozilla/5.0 (X11; Linux x86_64) AppleWebKit/537.36 (KHTML, like Gecko) Chrome/56.0.2924.87 Safari/537.36',\n",
    "    'Accept': 'text/html,application/xhtml+xml,application/xml;q=0.9,image/webp,*/*;q=0.8',\n",
    "    'Cache-Control': 'max-age=0',\n",
    "    'Connection': 'keep-alive',\n",
    "}\n",
    "\n",
    "\n",
    "def parse_review_page(URL:str):\n",
    "    \"\"\"\n",
    "    Gets information about review about game on a page (name, name of article, text of review) and\n",
    "    returns it as dict.\n",
    "    :param URL: str - page url\n",
    "    :return: None or dict full of info (keys: name, name_review, ref, text)\n",
    "    \"\"\"\n",
    "    r = requests.get(URL, headers=headers, timeout=600)\n",
    "    soup = bs(r.text, \"html.parser\")\n",
    "    game_name = soup.find(class_=\"font-weight-bold ls-n1 lh-1 mb-2\").text.partition(',')[0]\n",
    "    grade = soup.find(class_=\"article__verdict__boxes__vote text-center text-uppercase font-weight-bold m-0 h6\")\n",
    "    if grade is not None:\n",
    "        grade = grade.text\n",
    "    else:\n",
    "        grade = None\n",
    "    verdict = soup.find(class_='article__verdict clearfix _noads')\n",
    "    if verdict is not None:\n",
    "        verdict.extract() \n",
    "    pros_cons = soup.find(class_=\"article__pros-cons py-4 mb-2 mb-xl-0\")\n",
    "    if pros_cons is not None:\n",
    "        pros_cons.extract()\n",
    "    errors = soup.find(class_=\"article__body my-4\")\n",
    "    if errors is not None:\n",
    "        errors.extract()\n",
    "    errors = soup.find(class_=\"article__box article__box--requirements mx-3 mt-5 mb-3 pb-3 position-relative\")\n",
    "    if errors is not None:\n",
    "        errors.extract()\n",
    "    game_review_it = soup.find(class_=\"article__content\").text\n",
    "    game_review_it_1 = game_review_it[:4900]\n",
    "    game_review_it_2 = game_review_it[4900:9800]\n",
    "    game_review_it_3 = game_review_it[9800:14700]\n",
    "    if game_review_it_2 is not None:\n",
    "        if game_review_it_3 is None:\n",
    "            game_review = str(GoogleTranslator(source='it', target='en').translate(game_review_it_1)) + str(GoogleTranslator(source='it', target='en').translate(game_review_it_2))\n",
    "        else:\n",
    "            game_review = str(GoogleTranslator(source='it', target='en').translate(game_review_it_1)) + str(GoogleTranslator(source='it', target='en').translate(game_review_it_2)) + str(GoogleTranslator(source='it', target='en').translate(game_review_it_3))\n",
    "    else:\n",
    "        game_review = str(GoogleTranslator(source='it', target='en').translate(game_review_it_1))\n",
    "    date = soup.find(class_=\"article__header__date\").span.get(\"data-date\").partition('T')[0]\n",
    "    d = {'name': game_name, 'ref': URL, 'text': game_review, 'date': date, 'grade': grade}\n",
    "    return d\n",
    "\n",
    "filename = '/Users/karina/Desktop/НИУ ВШЭ/3 курс/ПроектГеймДев/Multiplayer it/game_URL.txt'\n",
    "counter = 2056\n",
    "with open (filename, 'r') as f:\n",
    "    all_review_links = f.readlines()\n",
    "for link in all_review_links[counter:]:\n",
    "    link = \"https://multiplayer.it\" + link\n",
    "    d = parse_review_page(\"%s\" %link.rstrip('\\n'))\n",
    "    with open(\"/Users/karina/Desktop/НИУ ВШЭ/3 курс/ПроектГеймДев/Multiplayer it/Reviews/game_review_all_\" + str(counter) + \".json\", \"w\") as outfile:\n",
    "        outfile.write(json.dumps(d))\n",
    "    counter = counter + 1"
   ]
  },
  {
   "cell_type": "code",
   "execution_count": 18,
   "id": "6a8f1092",
   "metadata": {},
   "outputs": [
    {
     "data": {
      "text/plain": [
       "'https://multiplayer.it/recensioni/project-zero-deaths-la-recensione.html\\n'"
      ]
     },
     "execution_count": 18,
     "metadata": {},
     "output_type": "execute_result"
    }
   ],
   "source": [
    "link"
   ]
  },
  {
   "cell_type": "code",
   "execution_count": 21,
   "id": "66bbe9e3",
   "metadata": {},
   "outputs": [
    {
     "data": {
      "text/plain": [
       "2056"
      ]
     },
     "execution_count": 21,
     "metadata": {},
     "output_type": "execute_result"
    }
   ],
   "source": [
    "counter"
   ]
  },
  {
   "cell_type": "code",
   "execution_count": null,
   "id": "ef17e6f5",
   "metadata": {},
   "outputs": [],
   "source": []
  }
 ],
 "metadata": {
  "kernelspec": {
   "display_name": "Python 3 (ipykernel)",
   "language": "python",
   "name": "python3"
  },
  "language_info": {
   "codemirror_mode": {
    "name": "ipython",
    "version": 3
   },
   "file_extension": ".py",
   "mimetype": "text/x-python",
   "name": "python",
   "nbconvert_exporter": "python",
   "pygments_lexer": "ipython3",
   "version": "3.10.8"
  }
 },
 "nbformat": 4,
 "nbformat_minor": 5
}
