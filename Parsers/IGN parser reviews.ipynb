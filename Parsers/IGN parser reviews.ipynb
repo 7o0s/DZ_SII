{
 "cells": [
  {
   "cell_type": "code",
   "execution_count": 99,
   "metadata": {},
   "outputs": [],
   "source": [
    "import requests\n",
    "from bs4 import BeautifulSoup as bs\n",
    "import json\n",
    "\n",
    "headers = {\n",
    "    'Accept-Encoding': 'gzip, deflate, sdch',\n",
    "    'Accept-Language': 'en-US,en;q=0.8',\n",
    "    'Upgrade-Insecure-Requests': '1',\n",
    "    'User-Agent': 'Mozilla/5.0 (X11; Linux x86_64) AppleWebKit/537.36 (KHTML, like Gecko) Chrome/56.0.2924.87 Safari/537.36',\n",
    "    'Accept': 'text/html,application/xhtml+xml,application/xml;q=0.9,image/webp,*/*;q=0.8',\n",
    "    'Cache-Control': 'max-age=0',\n",
    "    'Connection': 'keep-alive',\n",
    "}\n",
    "\n",
    "def parse_review_page(URL:str):\n",
    "    \"\"\"\n",
    "    Gets information about review about game on a page (name, name of article, text of review) and\n",
    "    returns it as dict.\n",
    "    :param URL: str - page url\n",
    "    :return: None or dict full of info (keys: name, name_review, ref, text)\n",
    "    \"\"\"\n",
    "    r = requests.get(URL, headers=headers, timeout=600)\n",
    "    soup = bs(r.text, \"html.parser\")\n",
    "    game_name = soup.find(class_=\"jsx-4245402894 article-object-link underlined\")\n",
    "    game_header = soup.find(class_=\"display-title jsx-4038437347\")\n",
    "\n",
    "    games_rewievs = soup.find(class_=\"article-page\").text\n",
    "    if (soup.find(class_=\"jsx-3103488995 article-section\") != None):\n",
    "        games_verdict = soup.find(class_=\"jsx-3103488995 article-section\").text\n",
    "    else: \n",
    "        games_verdict = \"\"\n",
    "    games_data_all = soup.find_all(class_=\"caption jsx-1189612256\")\n",
    "    for dates in games_data_all:\n",
    "        if (\"Posted\" in dates.text):\n",
    "            game_date = dates.text[8:20]\n",
    "            \n",
    "    game_full_rewiev = str(games_rewievs) + str(games_verdict)\n",
    "\n",
    "    d = {'name': game_name.text, 'name_review':game_header.text, 'ref': URL, 'text': game_full_rewiev, 'date': game_date}\n",
    "    return d\n",
    "\n",
    "filename = 'game_URL_end.txt'\n",
    "with open (filename, 'r') as f:\n",
    "    all_review_links = f.readlines()\n",
    "    #counter = 0\n",
    "    counter = counter - 1\n",
    "for link in all_review_links[counter:]:\n",
    "    counter = counter + 1\n",
    "    #print(all_review_links[4])\n",
    "    d = parse_review_page(\"%s\" %link.rstrip('\\n'))\n",
    "    with open(\"C:/Users/Маркин Алексей/Juptr/game_review_all/game_review_all_\" + str(counter) + \".json\", \"w\") as outfile:\n",
    "        outfile.write(json.dumps(d))\n",
    "    #print(games_verdict)"
   ]
  },
  {
   "cell_type": "code",
   "execution_count": 69,
   "metadata": {},
   "outputs": [
    {
     "name": "stdout",
     "output_type": "stream",
     "text": [
      "For all of the creative artistry in 2D game design, even sprite aficionados would have to admit that there's certain games that just shouldn't be attempted without a few polygons and a 3D physics engine. Sprites just can't be made for the kind of anything-can-happen tumult that a well-programmed polygon character can show off. They can move about, they can follow variables of physics, they can collide with each other, but when real mayhem and infinite possibilities of potential are called for, our little bitmap buddies need to swap their pixels for polygons.  This poses a problem for our favorite handheld system, since the Game Boy Advance is designed mostly for 2D. When a game that's clearly calling for polygons to do it justice, designers for GBA have two choices: pound away on the GBA with a handmade 3D engine and hope that the system can hold up, or put some poor sprites through the ringer with a multi-faceted 2D engine that pretends to assume every angle of a 3D engine. Cram enough math in the formula and that second choice is almost possible. Almost.  Features  Create and manage your own team of BattleBots with a variety of chassises, tires, batteries, gas tanks, engines, armor and weapons Drop in arcade-style power-ups or metal-up for real in multiple BattleBox arenas Upgrade and repair your titanium devastator as you climb towards the Golden Nut in Tournament mode Pit your bot creations or TV vet faves against friends in four-player Rumble mode (multi-cart only) Only for Game Boy Advance   Developers Cave+Barn Productions took this second choice for Majesco's GBA incarnation of Comedy Central's fighting robots show, and it's easy to see that they found themselves in a world of hurt trying to make this game like the show with such a limited engine. BattleBots: Beyond the BattleBox tries to pull off miracles with its sprites, and the devs could be commended for putting all kinds of variables and physics and possibilities and just plain stuff in the game. Problem is, the end result is still a game that's so limited, it just doesn't make sense.  Take, for example, the spinning weapon Ziggo: a twirling dervish made of what looks like a barbecue's round top with lead mallets on the sides of its spinning edges. This bad boy is nearly impervious -- you can't attack him from any one angle because he's round and so has no angles, and you can't go under or on top of him because to get even near him means big chunks of armor flaked like orange rinds off of your bot from its whirling blades. In the real life BattleBox, you've got two choices: one is to maneuver the attacking bot into a tricky corner and hopefully get the blades to catch and momentarily stop long enough for you to move in, or ram Ziggo with a mighty collision and pray that the gods of chance admire your ballsy approach and throw the spinning grinder out of commission with a broken or flipped bot. Either way, you're hoping on some small hope that you can cause something to go wrong with your opponent. Turn to the videogame arena and you have a problem: how do you make a balanced fighter out of unassailable opponents and improbable happenstance?  In the GBA version of BattleBots, there is no good answer. Some bots that are naturally formidable from all sides are given something of a weak spot at the rear, but otherwise, the problems of simulating unpredictable possibilities just about can't be done in 2D. Even at that, the devs only went halfway -- spinning weapons start up instantaneously when you hit the button and lose no momentum as they slash into metal hulls or spiked walls, so strategy gets thrown out the same window that chance was. Unrealistic speed also doesn't work for the wedge or ramming weapons, since there's no physics involved -- you can trap a bot into a corner and continuously drive into him to cause the damage or flip that realistically could only happen if your bot backed up and came crashing into them.BattleBots drives nicely (a surprise compared to most 8-way controls that can't turn on a dime with 10 bucks worth of dimes), so fair bouts between flipping bots or bladed bots can feel just like the show. Otherwise, the game just doesn't even make sense. Its gameplay doesn't work.  For fighting robot fans who simply want to get some RC carnage now that Comedy Central has canceled the show, the game has some charms. Several of the franchise's biggest names such as the unkillable Biohazard and the wily Overkill are available to play in either four-player multiplayer bouts or single player brawls. It's visually drab (the GBA could use some transparent light FX love, boys), but so is the show, and the rendered vehicle sprites are perfectly recognizable in all their menace. There's sprite flicker when too many bots are in the Box, but that's in exchange for hardly any slowdown to suffer. The cheesy effects for smoke and major impacts (animated bolts pop out of your bot and fly at the screen) don't flex the system very well, but they do their job of communicating to players that they're getting thrashed. The only real disappointment visually is that there are no tossed bot flips and head-on flying launches off the wedge -- the coolest part of a BattleBots episode (or real event, if you ever had a chance to watch a bot rattle the plexiglass and almost fly into the crowd) is given the cheapie treatment of just a silly cartoon spinning animation as your bot keels over without much fanfare. Thankfully, the uncoolest part of BattleBots -- the cloying, vapid, and only marginally attractive Ms. Carmen Electra -- is also ignored for the GBA version.  \n"
     ]
    }
   ],
   "source": [
    "r = requests.get(all_review_links[3911].rstrip('\\n'), headers=headers)\n",
    "soup = bs(r.text, \"html.parser\")\n",
    "pp = soup.find(class_=\"article-page\").text\n",
    "print(pp)"
   ]
  },
  {
   "cell_type": "code",
   "execution_count": 38,
   "metadata": {},
   "outputs": [
    {
     "name": "stdout",
     "output_type": "stream",
     "text": [
      "https://www.ign.com/articles/1996/11/25/krazy-ivan\n",
      "\n"
     ]
    }
   ],
   "source": [
    "print(all_review_links[42])"
   ]
  },
  {
   "cell_type": "code",
   "execution_count": 80,
   "metadata": {},
   "outputs": [
    {
     "name": "stdout",
     "output_type": "stream",
     "text": [
      "8547\n"
     ]
    }
   ],
   "source": [
    "print(counter)"
   ]
  },
  {
   "cell_type": "code",
   "execution_count": 57,
   "metadata": {},
   "outputs": [
    {
     "data": {
      "text/plain": [
       "'https://www.ign.com/articles/2000/08/10/surf-riders'"
      ]
     },
     "execution_count": 57,
     "metadata": {},
     "output_type": "execute_result"
    }
   ],
   "source": [
    "all_review_links[1899].rstrip('\\n')"
   ]
  },
  {
   "cell_type": "code",
   "execution_count": 100,
   "metadata": {},
   "outputs": [
    {
     "name": "stdout",
     "output_type": "stream",
     "text": [
      "10153\n"
     ]
    }
   ],
   "source": [
    "print(counter)"
   ]
  },
  {
   "cell_type": "code",
   "execution_count": 98,
   "metadata": {},
   "outputs": [
    {
     "data": {
      "text/plain": [
       "10153"
      ]
     },
     "execution_count": 98,
     "metadata": {},
     "output_type": "execute_result"
    }
   ],
   "source": [
    "len(all_review_links)"
   ]
  },
  {
   "cell_type": "code",
   "execution_count": null,
   "metadata": {},
   "outputs": [],
   "source": []
  }
 ],
 "metadata": {
  "kernelspec": {
   "display_name": "Python 3 (ipykernel)",
   "language": "python",
   "name": "python3"
  },
  "language_info": {
   "codemirror_mode": {
    "name": "ipython",
    "version": 3
   },
   "file_extension": ".py",
   "mimetype": "text/x-python",
   "name": "python",
   "nbconvert_exporter": "python",
   "pygments_lexer": "ipython3",
   "version": "3.10.8"
  }
 },
 "nbformat": 4,
 "nbformat_minor": 4
}
