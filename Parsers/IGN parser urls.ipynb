{
 "cells": [
  {
   "cell_type": "code",
   "execution_count": 3,
   "metadata": {},
   "outputs": [],
   "source": [
    "import requests\n",
    "from bs4 import BeautifulSoup as bs\n",
    "\n",
    "headers = {\n",
    "'Accept-Encoding': 'gzip, deflate, sdch',\n",
    "'Accept-Language': 'en-US,en;q=0.8',\n",
    "'Upgrade-Insecure-Requests': '1',\n",
    "'User-Agent': 'Mozilla/5.0 (X11; Linux x86_64) AppleWebKit/537.36 (KHTML, like Gecko) Chrome/56.0.2924.87 Safari/537.36',\n",
    "'Accept': 'text/html,application/xhtml+xml,application/xml;q=0.9,image/webp,*/*;q=0.8',\n",
    "'Cache-Control': 'max-age=0',\n",
    "'Connection': 'keep-alive',\n",
    "}"
   ]
  },
  {
   "cell_type": "code",
   "execution_count": 1,
   "metadata": {},
   "outputs": [],
   "source": [
    "from selenium import webdriver\n",
    "import time"
   ]
  },
  {
   "cell_type": "code",
   "execution_count": null,
   "metadata": {},
   "outputs": [],
   "source": [
    "from selenium.webdriver.common.by import By\n",
    "from selenium.webdriver.support.ui import WebDriverWait\n",
    "from selenium.webdriver.support import expected_conditions as EC\n",
    "from selenium.webdriver.support.ui import Select\n",
    "from selenium.webdriver.chrome.options import Options"
   ]
  },
  {
   "cell_type": "markdown",
   "metadata": {},
   "source": [
    "# Сбор ссылок с Египетского IGN"
   ]
  },
  {
   "cell_type": "code",
   "execution_count": null,
   "metadata": {},
   "outputs": [],
   "source": [
    "n = 127\n",
    "count = 0\n",
    "for i in range(1, n+1):\n",
    "    driver = webdriver.Chrome()\n",
    "    url = \"https://me.ign.com/en/article/review/?keyword__type=game&page=\" + str(i)\n",
    "    driver.get(url)\n",
    "\n",
    "    results = driver.find_elements(\"xpath\", '//article[@class=\"article REVIEW\"]')\n",
    " \n",
    "    for result in results:\n",
    "        count = count + 1\n",
    "        video = result.find_element(\"xpath\", './/h3/a')\n",
    "        title = video.get_attribute('text')\n",
    "        url = video.get_attribute('href')\n",
    "        print(\"{}\".format(url))\n",
    "    driver.quit()"
   ]
  },
  {
   "cell_type": "markdown",
   "metadata": {},
   "source": [
    "# Сбор ссылок с нормального IGN"
   ]
  },
  {
   "cell_type": "code",
   "execution_count": null,
   "metadata": {},
   "outputs": [],
   "source": [
    "options = Options()\n",
    "options.add_argument(\"user-data-dir=C:\\\\profile\")\n",
    "\n",
    "driver = webdriver.Chrome(options=options)\n",
    "driver.get(\"https://www.ign.com/reviews/games\")\n",
    "\n",
    "WebDriverWait(driver, 90).until(EC.visibility_of_element_located((By.NAME, \"sortBy\")))\n",
    "dropdown = driver.find_element(By.NAME, \"sortBy\")\n",
    "dropdown.click()\n",
    "\n",
    "se = Select(dropdown)\n",
    "dropdown_item4 = se.select_by_visible_text('Sort by Oldest')\n",
    "\n",
    "lenOfPage = driver.execute_script(\"window.scrollTo(0, document.body.scrollHeight);var lenOfPage=document.body.scrollHeight;return lenOfPage;\")\n",
    "match=False\n",
    "while(match==False):\n",
    "    lenOfPage = driver.execute_script(\"window.scrollTo(0, document.body.scrollHeight);var lenOfPage=document.body.scrollHeight;return lenOfPage;\")\n",
    "        "
   ]
  },
  {
   "cell_type": "code",
   "execution_count": null,
   "metadata": {},
   "outputs": [],
   "source": [
    "match=False\n",
    "while(match==False):\n",
    "    lenOfPage = driver.execute_script(\"window.scrollTo(0, document.body.scrollHeight);var lenOfPage=document.body.scrollHeight;return lenOfPage;\")"
   ]
  },
  {
   "cell_type": "code",
   "execution_count": null,
   "metadata": {},
   "outputs": [],
   "source": [
    "results = driver.find_elements(\"xpath\", '//div[@class=\"content-item jsx-66171651 row divider\"]')\n",
    "count = 0\n",
    "for result in results[10150:]:\n",
    "    count = count + 1\n",
    "    video = result.find_element(\"xpath\", './/a[@class=\"item-body\"]')\n",
    "    title = video.get_attribute('text')\n",
    "    url = video.get_attribute('href')\n",
    "    with open(\"C:/Users/Маркин Алексей/Juptr/game_URL_6.txt\", \"a\") as outfile:\n",
    "        outfile.write(url+\"\\n\")\n",
    "    print(\"{}\".format(url))"
   ]
  }
 ],
 "metadata": {
  "kernelspec": {
   "display_name": "Python 3 (ipykernel)",
   "language": "python",
   "name": "python3"
  },
  "language_info": {
   "codemirror_mode": {
    "name": "ipython",
    "version": 3
   },
   "file_extension": ".py",
   "mimetype": "text/x-python",
   "name": "python",
   "nbconvert_exporter": "python",
   "pygments_lexer": "ipython3",
   "version": "3.10.8"
  }
 },
 "nbformat": 4,
 "nbformat_minor": 4
}
