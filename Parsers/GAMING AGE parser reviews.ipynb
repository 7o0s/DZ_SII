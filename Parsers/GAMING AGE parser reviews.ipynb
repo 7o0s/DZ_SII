{
 "cells": [
  {
   "cell_type": "code",
   "execution_count": 80,
   "metadata": {},
   "outputs": [
    {
     "name": "stdout",
     "output_type": "stream",
     "text": [
      "8547\n"
     ]
    }
   ],
   "source": [
    "print(counter)"
   ]
  },
  {
   "cell_type": "code",
   "execution_count": 57,
   "metadata": {},
   "outputs": [
    {
     "data": {
      "text/plain": [
       "'https://www.ign.com/articles/2000/08/10/surf-riders'"
      ]
     },
     "execution_count": 57,
     "metadata": {},
     "output_type": "execute_result"
    }
   ],
   "source": [
    "all_review_links[1899].rstrip('\\n')"
   ]
  },
  {
   "cell_type": "code",
   "execution_count": 98,
   "metadata": {},
   "outputs": [
    {
     "data": {
      "text/plain": [
       "10153"
      ]
     },
     "execution_count": 98,
     "metadata": {},
     "output_type": "execute_result"
    }
   ],
   "source": [
    "len(all_review_links)"
   ]
  },
  {
   "cell_type": "code",
   "execution_count": 71,
   "metadata": {},
   "outputs": [],
   "source": [
    "       \n",
    "        \n",
    "import requests\n",
    "from bs4 import BeautifulSoup as bs\n",
    "import json\n",
    "\n",
    "headers = {\n",
    "    'Accept-Encoding': 'gzip, deflate, sdch',\n",
    "    'Accept-Language': 'en-US,en;q=0.8',\n",
    "    'Upgrade-Insecure-Requests': '1',\n",
    "    'User-Agent': 'Mozilla/5.0 (X11; Linux x86_64) AppleWebKit/537.36 (KHTML, like Gecko) Chrome/56.0.2924.87 Safari/537.36',\n",
    "    'Accept': 'text/html,application/xhtml+xml,application/xml;q=0.9,image/webp,*/*;q=0.8',\n",
    "    'Cache-Control': 'max-age=0',\n",
    "    'Connection': 'keep-alive',\n",
    "}\n",
    "\n",
    "def parse_review_page(URL:str):\n",
    "    \"\"\"\n",
    "    Gets information about review about game on a page (name, name of article, text of review) and\n",
    "    returns it as dict.\n",
    "    :param URL: str - page url\n",
    "    :return: None or dict full of info (keys: name, name_review, ref, text)\n",
    "    \"\"\"\n",
    "    r = requests.get(URL, headers=headers, timeout=600)\n",
    "    soup = bs(r.text, \"html.parser\")\n",
    "    name = soup.find(class_=\"post-title entry-title\")\n",
    "    game_name = name.text.partition('review')[0]\n",
    "    waste_block = soup.find(class_=\"entry-content clearfix\").select('div.appip-block-wrapper')\n",
    "    for w in waste_block:\n",
    "        w.extract()\n",
    "    game_review = soup.find(class_=\"entry-content clearfix\").select('p')\n",
    "    game_full_review = \"\"\n",
    "    for review in game_review[:-2]:\n",
    "        game_full_review += review.text\n",
    "    waste_date = soup.find(class_ = \"published\").text.partition(',')\n",
    "    date = waste_date[0][:-2] + waste_date[1] + waste_date[2]\n",
    "    if soup.find(class_ = \"review_grade\") is not None:\n",
    "        if soup.find(class_ = \"review_grade\").span is not None:\n",
    "            grade = soup.find(class_ = \"review_grade\").span.text\n",
    "        else: \n",
    "            grade = soup.find(class_ = \"review_grade\").text.partition('Grade: ')[2]\n",
    "    else:\n",
    "        grade = None\n",
    "    d = {'name': game_name, 'ref': URL, 'text': game_full_review, 'date': date, 'grade': grade}\n",
    "    return d\n",
    "\n",
    "filename = '/Users/karina/Desktop/НИУ ВШЭ/3 курс/ПроектГеймДев/Gaming Age/game_URL.txt'\n",
    "counter = 1000\n",
    "with open (filename, 'r') as f:\n",
    "    all_review_links = f.readlines()\n",
    "for link in all_review_links[counter:]:\n",
    "    d = parse_review_page(\"%s\" %link.rstrip('\\n'))\n",
    "    with open(\"/Users/karina/Desktop/НИУ ВШЭ/3 курс/ПроектГеймДев/Gaming Age/Reviews/game_review_all_\" + str(counter) + \".json\", \"w\") as outfile:\n",
    "        outfile.write(json.dumps(d))\n",
    "    counter = counter + 1"
   ]
  },
  {
   "cell_type": "code",
   "execution_count": 68,
   "metadata": {},
   "outputs": [
    {
     "name": "stdout",
     "output_type": "stream",
     "text": [
      "https://gaming-age.com/2022/07/blackberry-honey-review-for-playstation-xbox-switch-pc/\n",
      "\n"
     ]
    }
   ],
   "source": [
    "print(all_review_links[203])"
   ]
  },
  {
   "cell_type": "code",
   "execution_count": null,
   "metadata": {},
   "outputs": [],
   "source": []
  }
 ],
 "metadata": {
  "kernelspec": {
   "display_name": "Python 3 (ipykernel)",
   "language": "python",
   "name": "python3"
  },
  "language_info": {
   "codemirror_mode": {
    "name": "ipython",
    "version": 3
   },
   "file_extension": ".py",
   "mimetype": "text/x-python",
   "name": "python",
   "nbconvert_exporter": "python",
   "pygments_lexer": "ipython3",
   "version": "3.10.8"
  }
 },
 "nbformat": 4,
 "nbformat_minor": 4
}
